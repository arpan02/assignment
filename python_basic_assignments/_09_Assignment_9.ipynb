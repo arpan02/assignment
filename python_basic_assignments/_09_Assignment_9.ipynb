{
 "cells": [
  {
   "cell_type": "markdown",
   "metadata": {},
   "source": [
    "**1. What is a lambda function in Python, and how does it differ from a regular function?**\n",
    "\n",
    "Lambda function are anonymous function which are small functions.They can be define in single line.They are useful when we have to use function at only one place.They are useful when we pass them as callback function."
   ]
  },
  {
   "cell_type": "code",
   "execution_count": 4,
   "metadata": {},
   "outputs": [
    {
     "name": "stdout",
     "output_type": "stream",
     "text": [
      "5\n"
     ]
    }
   ],
   "source": [
    "sum = lambda a,b: a + b\n",
    "print(sum(2,3))"
   ]
  },
  {
   "cell_type": "code",
   "execution_count": 5,
   "metadata": {},
   "outputs": [
    {
     "name": "stdout",
     "output_type": "stream",
     "text": [
      "[1, 4, 9, 16, 25]\n"
     ]
    }
   ],
   "source": [
    "# Here we used lambda function in map function.We passed lambda function as callback function\n",
    "l = [1,2,3,4,5]\n",
    "square = list(map(lambda x : x**2,l))\n",
    "print(square)"
   ]
  },
  {
   "cell_type": "markdown",
   "metadata": {},
   "source": [
    "**2. Can a lambda function in Python have multiple arguments? If yes, how can you define and use them?**\n",
    "\n",
    "Yes lambda function can have multiple arguments. Below is example of lambda function having multiple argument."
   ]
  },
  {
   "cell_type": "code",
   "execution_count": 6,
   "metadata": {},
   "outputs": [
    {
     "name": "stdout",
     "output_type": "stream",
     "text": [
      "6\n"
     ]
    }
   ],
   "source": [
    "multiply = lambda x,y : x*y\n",
    "print(multiply(2,3))"
   ]
  },
  {
   "cell_type": "markdown",
   "metadata": {},
   "source": [
    "**3. How are lambda functions typically used in Python? Provide an example use case.**\n",
    "\n",
    "Lambda function are generally used as anonymous function and also used as callback function."
   ]
  },
  {
   "cell_type": "code",
   "execution_count": 7,
   "metadata": {},
   "outputs": [
    {
     "name": "stdout",
     "output_type": "stream",
     "text": [
      "[3, 5, 7]\n"
     ]
    }
   ],
   "source": [
    "# In below code we are creating new list which only contains odd number\n",
    "l = [2,3,4,5,6,7,8]\n",
    "\n",
    "odd_numbers = filter(lambda x : x%2!=0 , l)\n",
    "odd_numbers =  list(odd_numbers)\n",
    "print(odd_numbers)"
   ]
  },
  {
   "cell_type": "markdown",
   "metadata": {},
   "source": [
    "**4. What are the advantages and limitations of lambda functions compared to regular functions in Python?**"
   ]
  },
  {
   "cell_type": "markdown",
   "metadata": {},
   "source": [
    "**Advantages of lambda functions**\n",
    "\n",
    "1. We don't have to deal with naming of function.In large project naming variable and functions become hard.So in lambda function we can use function without giving name. So lambda function are anonymous\n",
    "\n",
    "2.We can use lambda function as callback function for small operation\n",
    "\n",
    "3. The lambda function short and precise.\n",
    "\n",
    "4. No additional variable are added to pollute the global environment"
   ]
  },
  {
   "cell_type": "markdown",
   "metadata": {},
   "source": [
    "**Disadvantage of lambda function**\n",
    "\n",
    "1. Lambda function have no name,so its become hard to document them.\n",
    "\n",
    "2. If logic of program is not simple that it's not good to use lambda function because it will make hard to understand code.\n",
    "\n",
    "3. It reduce the maintainability of the code.\n",
    "\n",
    "4. Lambda function can only have one expression\n"
   ]
  },
  {
   "cell_type": "markdown",
   "metadata": {},
   "source": [
    "**5.Are lambda functions in Python able to access variables defined outside of their own scope? Explain with an example.**\n",
    "\n",
    "Yeah we can access variable which are define outside of their own scope.Below is given example"
   ]
  },
  {
   "cell_type": "code",
   "execution_count": 8,
   "metadata": {},
   "outputs": [
    {
     "name": "stdout",
     "output_type": "stream",
     "text": [
      "15\n"
     ]
    }
   ],
   "source": [
    "a = 10\n",
    "\n",
    "add10 = lambda x : x + a \n",
    "\n",
    "print(add10(5))"
   ]
  },
  {
   "cell_type": "markdown",
   "metadata": {},
   "source": [
    "**6. Write a lambda function to calculate the square of a given number.**"
   ]
  },
  {
   "cell_type": "code",
   "execution_count": 9,
   "metadata": {},
   "outputs": [
    {
     "name": "stdout",
     "output_type": "stream",
     "text": [
      "25\n"
     ]
    }
   ],
   "source": [
    "sqr = lambda x : x*x\n",
    "print(sqr(5))"
   ]
  },
  {
   "cell_type": "markdown",
   "metadata": {},
   "source": [
    "**7. Create a lambda function to find the maximum value in a list of integers.**"
   ]
  },
  {
   "cell_type": "code",
   "execution_count": 10,
   "metadata": {},
   "outputs": [
    {
     "name": "stdout",
     "output_type": "stream",
     "text": [
      "143\n"
     ]
    }
   ],
   "source": [
    "from functools import reduce\n",
    "\n",
    "l = [3,8,20,5,83,100,2,143]\n",
    "\n",
    "ans = reduce(lambda x,y: x if x > y else y,l)\n",
    "\n",
    "print(ans)\n"
   ]
  },
  {
   "cell_type": "markdown",
   "metadata": {},
   "source": [
    "**8. Implement a lambda function to filter out all the even numbers from a list of integers.**"
   ]
  },
  {
   "cell_type": "code",
   "execution_count": 11,
   "metadata": {},
   "outputs": [
    {
     "name": "stdout",
     "output_type": "stream",
     "text": [
      "[2, 4, 6, 8]\n"
     ]
    }
   ],
   "source": [
    "# In below code we are creating new list which only contains even number\n",
    "\n",
    "l = [2,3,4,5,6,7,8]\n",
    "\n",
    "even_numbers = filter(lambda x : x%2==0 , l)\n",
    "even_numbers =  list(even_numbers)\n",
    "print(even_numbers)"
   ]
  },
  {
   "cell_type": "markdown",
   "metadata": {},
   "source": [
    "**9. Write a lambda function to sort a list of strings in ascending order based on the length of each string.**"
   ]
  },
  {
   "cell_type": "code",
   "execution_count": 12,
   "metadata": {},
   "outputs": [
    {
     "name": "stdout",
     "output_type": "stream",
     "text": [
      "['St', 'John', 'Damon', 'elena', 'michael', 'tendulkar']\n"
     ]
    }
   ],
   "source": [
    "l = ['John','michael','Damon','St','elena','tendulkar']\n",
    "\n",
    "ans = sorted(l,key=lambda word:len(word))\n",
    "\n",
    "print(ans)"
   ]
  },
  {
   "cell_type": "markdown",
   "metadata": {},
   "source": [
    "**10. Create a lambda function that takes two lists as input and returns a new list containing the common elements between the two lists.**\n",
    "\n",
    "\n",
    "\n",
    "\n"
   ]
  },
  {
   "cell_type": "code",
   "execution_count": 29,
   "metadata": {},
   "outputs": [
    {
     "name": "stdout",
     "output_type": "stream",
     "text": [
      "[4, 8, 3]\n"
     ]
    }
   ],
   "source": [
    "l1 = [1,4,8,3,2]\n",
    "l2 = [3,8,7,6,4]\n",
    "\n",
    "fun = lambda l1,l2:[a for a in l1 if a in l2]\n",
    "\n",
    "print(fun(l1,l2))\n"
   ]
  },
  {
   "cell_type": "markdown",
   "metadata": {},
   "source": [
    "**11. Write a recursive function to calculate the factorial of a given positive integer.**"
   ]
  },
  {
   "cell_type": "code",
   "execution_count": 14,
   "metadata": {},
   "outputs": [
    {
     "data": {
      "text/plain": [
       "720"
      ]
     },
     "execution_count": 14,
     "metadata": {},
     "output_type": "execute_result"
    }
   ],
   "source": [
    "def factorial(n):\n",
    "    if(n==0):\n",
    "        return 1\n",
    "    return factorial(n-1) * n\n",
    "\n",
    "factorial(6)"
   ]
  },
  {
   "cell_type": "markdown",
   "metadata": {},
   "source": [
    "**12. Implement a recursive function to compute the nth Fibonacci number.**"
   ]
  },
  {
   "cell_type": "code",
   "execution_count": 15,
   "metadata": {},
   "outputs": [
    {
     "name": "stdout",
     "output_type": "stream",
     "text": [
      "0\n",
      "1\n",
      "1\n",
      "2\n",
      "3\n",
      "5\n",
      "8\n",
      "13\n",
      "21\n",
      "34\n"
     ]
    }
   ],
   "source": [
    "def fib(n):\n",
    "    if(n==0 or n==1):\n",
    "        return n\n",
    "    \n",
    "    return fib(n-1)+fib(n-2)\n",
    "\n",
    "\n",
    "for i in range(10):\n",
    "    print(fib(i))\n",
    "    \n",
    "    "
   ]
  },
  {
   "cell_type": "markdown",
   "metadata": {},
   "source": [
    "**13. Create a recursive function to find the sum of all the elements in a given list.**"
   ]
  },
  {
   "cell_type": "code",
   "execution_count": 16,
   "metadata": {},
   "outputs": [
    {
     "name": "stdout",
     "output_type": "stream",
     "text": [
      "55\n"
     ]
    }
   ],
   "source": [
    "def sum(l,i):\n",
    "    if(len(l)==i):\n",
    "        return 0\n",
    "    \n",
    "    return l[i] + sum(l,i+1)\n",
    "\n",
    "l  = [1,2,3,4,5,6,7,8,9,10]\n",
    "print(sum(l,0))"
   ]
  },
  {
   "cell_type": "markdown",
   "metadata": {},
   "source": [
    "**14. Write a recursive function to determine whether a given string is a palindrome.**"
   ]
  },
  {
   "cell_type": "code",
   "execution_count": 17,
   "metadata": {},
   "outputs": [
    {
     "name": "stdout",
     "output_type": "stream",
     "text": [
      "True\n",
      "True\n",
      "False\n"
     ]
    }
   ],
   "source": [
    "def check_palindrome(str,i,j):\n",
    "    if(i==j):\n",
    "        return True\n",
    "    \n",
    "    if(str[i]!=str[j]):\n",
    "        return False\n",
    "    \n",
    "    return check_palindrome(str,i+1,j-1)\n",
    "\n",
    "print(check_palindrome('stats',0,len('stats')-1))\n",
    "print(check_palindrome('racecar',0,len('racecar')-1))\n",
    "print(check_palindrome('hello',0,len('hello')-1))\n"
   ]
  },
  {
   "cell_type": "markdown",
   "metadata": {},
   "source": [
    "**15. Implement a recursive function to find the greatest common divisor (GCD) of two positive integers.**"
   ]
  },
  {
   "cell_type": "code",
   "execution_count": 24,
   "metadata": {},
   "outputs": [
    {
     "name": "stdout",
     "output_type": "stream",
     "text": [
      "4\n"
     ]
    }
   ],
   "source": [
    "def gcd(x,y):\n",
    "    if y == 0:\n",
    "        return x\n",
    "    else:\n",
    "        return gcd(y,x % y)\n",
    "    \n",
    "print(gcd(24,68))"
   ]
  },
  {
   "cell_type": "code",
   "execution_count": null,
   "metadata": {},
   "outputs": [],
   "source": []
  }
 ],
 "metadata": {
  "kernelspec": {
   "display_name": "base",
   "language": "python",
   "name": "python3"
  },
  "language_info": {
   "codemirror_mode": {
    "name": "ipython",
    "version": 3
   },
   "file_extension": ".py",
   "mimetype": "text/x-python",
   "name": "python",
   "nbconvert_exporter": "python",
   "pygments_lexer": "ipython3",
   "version": "3.10.9"
  },
  "orig_nbformat": 4
 },
 "nbformat": 4,
 "nbformat_minor": 2
}
