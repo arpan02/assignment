{
 "cells": [
  {
   "cell_type": "markdown",
   "metadata": {},
   "source": [
    "**1. What is the role of try and exception block?**\n",
    "\n",
    "The try anc exception block is used for handling error caused in program during runtime.It's helps us to provide a better user experience.It's also helps developer to catch bug in the code"
   ]
  },
  {
   "cell_type": "markdown",
   "metadata": {},
   "source": [
    "**2. What is the syntax for a basic try-except block?**"
   ]
  },
  {
   "cell_type": "code",
   "execution_count": 3,
   "metadata": {},
   "outputs": [
    {
     "name": "stdout",
     "output_type": "stream",
     "text": [
      "this is my except block  [Errno 2] No such file or directory: 'text.txt'\n",
      "finally will execute itself in an any situation\n"
     ]
    }
   ],
   "source": [
    "try:\n",
    "    f = open('text.txt','r')\n",
    "except Exception as e :\n",
    "    print(\"this is my except block \",e)\n",
    "else :\n",
    "    # always run when try code implemented successfully\n",
    "    f.close()\n",
    "finally:\n",
    "    print(\"finally will execute itself in an any situation\")"
   ]
  },
  {
   "cell_type": "markdown",
   "metadata": {},
   "source": [
    "**3. What happens if an exception occurs inside a try block and there is no matching\n",
    "except block?**\n",
    "\n",
    "The code will throw error.It's syntax error.Every try block at least need to have except block or finally clause."
   ]
  },
  {
   "cell_type": "code",
   "execution_count": 4,
   "metadata": {},
   "outputs": [
    {
     "ename": "SyntaxError",
     "evalue": "incomplete input (728768988.py, line 2)",
     "output_type": "error",
     "traceback": [
      "\u001b[1;36m  Cell \u001b[1;32mIn[4], line 2\u001b[1;36m\u001b[0m\n\u001b[1;33m    f = open('text.txt','r')\u001b[0m\n\u001b[1;37m                            ^\u001b[0m\n\u001b[1;31mSyntaxError\u001b[0m\u001b[1;31m:\u001b[0m incomplete input\n"
     ]
    }
   ],
   "source": [
    "try:\n",
    "    f = open('text.txt','r')"
   ]
  },
  {
   "cell_type": "markdown",
   "metadata": {},
   "source": [
    "**4. What is the difference between using a bare except block and specifying a specific\n",
    "exception type?**\n",
    "\n",
    "The bare except block will catch all kind of error.The specific exception will catch only one kind of error."
   ]
  },
  {
   "cell_type": "code",
   "execution_count": 5,
   "metadata": {},
   "outputs": [
    {
     "name": "stdout",
     "output_type": "stream",
     "text": [
      "Some error occurred\n"
     ]
    }
   ],
   "source": [
    "# Example of bare except block\n",
    "try:\n",
    "    a = 10\n",
    "    div = a/0\n",
    "except Exception as e:\n",
    "    print(\"Some error occurred\")\n",
    "    "
   ]
  },
  {
   "cell_type": "code",
   "execution_count": 7,
   "metadata": {},
   "outputs": [
    {
     "name": "stdout",
     "output_type": "stream",
     "text": [
      "Can't divide by zero!\n"
     ]
    }
   ],
   "source": [
    "# Example of specific exception block\n",
    "try:\n",
    "    a = 10\n",
    "    div = a/0\n",
    "except ZeroDivisionError as e:\n",
    "    print(\"Can't divide by zero!\")"
   ]
  },
  {
   "cell_type": "markdown",
   "metadata": {},
   "source": [
    "**5. Can you have nested try-except blocks in Python? If yes, then give an example.**\n",
    "\n",
    "Yes we can have nested try-except blocks in python. Below is given example."
   ]
  },
  {
   "cell_type": "code",
   "execution_count": 8,
   "metadata": {},
   "outputs": [
    {
     "name": "stdout",
     "output_type": "stream",
     "text": [
      "file not found error\n",
      "Can't divide by zero!\n"
     ]
    }
   ],
   "source": [
    "try:\n",
    "    a = 10\n",
    "    div = a/0\n",
    "except ZeroDivisionError as e:\n",
    "    try:\n",
    "        f = open('text.txt','r')\n",
    "    except Exception as e:\n",
    "        print('file not found error')\n",
    "    print(\"Can't divide by zero!\")"
   ]
  },
  {
   "cell_type": "markdown",
   "metadata": {},
   "source": [
    "**6. Can we use multiple exception blocks, if yes then give an example.**\n",
    "\n",
    "Yes we can have multiple exception block in python"
   ]
  },
  {
   "cell_type": "code",
   "execution_count": 9,
   "metadata": {},
   "outputs": [
    {
     "name": "stdout",
     "output_type": "stream",
     "text": [
      "File not found\n"
     ]
    }
   ],
   "source": [
    "try:\n",
    "    a = 3/3\n",
    "    f = open('text.txt','r')\n",
    "except ImportError as e:\n",
    "    print(\"Import error\")\n",
    "except ZeroDivisionError as e:\n",
    "    print(\"Divided by zero error\")\n",
    "except FileNotFoundError as e:\n",
    "    print(\"File not found\")\n",
    "except Exception as e :\n",
    "    print(\"Something went wrong \",e)"
   ]
  },
  {
   "cell_type": "markdown",
   "metadata": {},
   "source": [
    "**7. Write the reason due to which following errors are raised:**\n",
    "\n",
    "a. EOFError-: The error occurs when python has reached the end of user input without receiving any input.\n",
    "\n",
    "b. FloatingPointError-: It's is raised when float calculation fails.\n",
    "\n",
    "c. IndexError-: It's happens when try to access item in list which is out of bound.\n",
    "\n",
    "d. MemoryError-:It's occurs when where the memory of the RAM we are using couldn't support the execution of our code. \n",
    "\n",
    "e. OverflowError-: It's happens when the current runtime value obtained by the Python program exceeds the limit value.\n",
    "\n",
    "f. TabError-:It's happens when we use inconsistent tabs and space in indentation.\n",
    "\n",
    "g. ValueError-:It's happens when function receives an argument of the correct type but inappropriate value.\n",
    "\n"
   ]
  },
  {
   "cell_type": "markdown",
   "metadata": {},
   "source": [
    "**8. Write code for the following given scenario and add try-exception block to it.**\n",
    "\n",
    "a. Program to divide two numbers"
   ]
  },
  {
   "cell_type": "code",
   "execution_count": 1,
   "metadata": {},
   "outputs": [
    {
     "name": "stdout",
     "output_type": "stream",
     "text": [
      "Divide by zero!!\n"
     ]
    }
   ],
   "source": [
    "a = 10\n",
    "b = 0\n",
    "\n",
    "try:\n",
    "    ans = a/b\n",
    "except ZeroDivisionError as e:\n",
    "    print(\"Divide by zero!!\")\n",
    "except Exception as e:\n",
    "    print(\"Something went wrong! Try again\")\n",
    "    \n"
   ]
  },
  {
   "cell_type": "markdown",
   "metadata": {},
   "source": [
    "b. Program to convert a string to an integer"
   ]
  },
  {
   "cell_type": "code",
   "execution_count": 8,
   "metadata": {},
   "outputs": [
    {
     "name": "stdout",
     "output_type": "stream",
     "text": [
      "Invalid value\n"
     ]
    }
   ],
   "source": [
    "try:\n",
    "    int('3fd')\n",
    "except ValueError as e:\n",
    "    print('Invalid value')\n",
    "except Exception as e:\n",
    "    print(e)"
   ]
  },
  {
   "cell_type": "markdown",
   "metadata": {},
   "source": [
    "c. Program to access an element in a list"
   ]
  },
  {
   "cell_type": "code",
   "execution_count": 4,
   "metadata": {},
   "outputs": [
    {
     "name": "stdout",
     "output_type": "stream",
     "text": [
      "Index out of bounds\n"
     ]
    }
   ],
   "source": [
    "try:\n",
    "    l = [1,2,3,4,5]\n",
    "    a = l[10]\n",
    "except IndexError as e:\n",
    "    print(\"Index out of bounds\")\n",
    "except Exception as e:\n",
    "    print(\"Something went wrong\" , e)    "
   ]
  },
  {
   "cell_type": "markdown",
   "metadata": {},
   "source": [
    "d. Program to handle a specific exception"
   ]
  },
  {
   "cell_type": "code",
   "execution_count": 9,
   "metadata": {},
   "outputs": [
    {
     "name": "stdout",
     "output_type": "stream",
     "text": [
      "Invalid key\n"
     ]
    }
   ],
   "source": [
    "try:\n",
    "    d = {\"firstname\":\"Peter\",\"lastname\":\"Parker\"}\n",
    "    print(d[\"key\"])\n",
    "except KeyError as e:\n",
    "    print(\"Invalid key\")\n",
    "except Exception as e:\n",
    "    print(e)"
   ]
  },
  {
   "cell_type": "markdown",
   "metadata": {},
   "source": [
    "e. Program to handle any exception"
   ]
  },
  {
   "cell_type": "code",
   "execution_count": 1,
   "metadata": {},
   "outputs": [
    {
     "name": "stdout",
     "output_type": "stream",
     "text": [
      "Something went wrong! try again\n"
     ]
    }
   ],
   "source": [
    "try:\n",
    "    f = open('text.txt','r')\n",
    "except Exception as e :\n",
    "    print(\"Something went wrong! try again\")"
   ]
  },
  {
   "cell_type": "code",
   "execution_count": null,
   "metadata": {},
   "outputs": [],
   "source": []
  }
 ],
 "metadata": {
  "kernelspec": {
   "display_name": "base",
   "language": "python",
   "name": "python3"
  },
  "language_info": {
   "codemirror_mode": {
    "name": "ipython",
    "version": 3
   },
   "file_extension": ".py",
   "mimetype": "text/x-python",
   "name": "python",
   "nbconvert_exporter": "python",
   "pygments_lexer": "ipython3",
   "version": "3.10.9"
  },
  "orig_nbformat": 4
 },
 "nbformat": 4,
 "nbformat_minor": 2
}
