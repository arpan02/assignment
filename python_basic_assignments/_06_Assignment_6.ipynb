{
 "cells": [
  {
   "cell_type": "markdown",
   "metadata": {},
   "source": [
    "**Q.1. What are keywords in python? Using the keyword library, print all the python keywords.**\n",
    "\n",
    "Python keywords are reserved word which have special meaning in python programming."
   ]
  },
  {
   "cell_type": "code",
   "execution_count": 1,
   "metadata": {},
   "outputs": [
    {
     "name": "stdout",
     "output_type": "stream",
     "text": [
      "['False', 'None', 'True', 'and', 'as', 'assert', 'async', 'await', 'break', 'class', 'continue', 'def', 'del', 'elif', 'else', 'except', 'finally', 'for', 'from', 'global', 'if', 'import', 'in', 'is', 'lambda', 'nonlocal', 'not', 'or', 'pass', 'raise', 'return', 'try', 'while', 'with', 'yield']\n"
     ]
    }
   ],
   "source": [
    "import keyword\n",
    "\n",
    "print(keyword.kwlist)"
   ]
  },
  {
   "cell_type": "markdown",
   "metadata": {},
   "source": [
    "**Q.2. What are the rules to create variables in python?**\n",
    "\n",
    " A variable can only contains alpha numeric character and underscore( _ ). The name cannot start with number because python interpreter will get confused whether name is variable name or numeric datatype.A name can start with underscore.Variable name are case sensitive."
   ]
  },
  {
   "cell_type": "markdown",
   "metadata": {},
   "source": [
    "**Q.3. What are the standards and conventions followed for the nomenclature of variables in\n",
    "python to improve code readability and maintainability?**\n",
    "\n",
    "1. The variable name should be meaningful.Don't use random like a,b,x,y,temp.\n",
    "2. The variable name for constants value should be in uppercase.\n",
    "3. The words in variable should be separated by underscore(_)\n",
    "4. The class name should be written CamelCase.\n",
    "5. The module name should be short."
   ]
  },
  {
   "cell_type": "markdown",
   "metadata": {},
   "source": [
    "**Q.4. What will happen if a keyword is used as a variable name?**\n",
    "\n",
    "If we use keyword as variable name in python,It will throw an error.Keywords are reserved keyword in python which have special meaning associated with them so they can't be used as variable name."
   ]
  },
  {
   "cell_type": "markdown",
   "metadata": {},
   "source": [
    "**Q.5. For what purpose def keyword is used?**\n",
    "\n",
    "The \"def\" keyword is used to define function definition. An example is given below."
   ]
  },
  {
   "cell_type": "code",
   "execution_count": 2,
   "metadata": {},
   "outputs": [
    {
     "name": "stdout",
     "output_type": "stream",
     "text": [
      "5\n"
     ]
    }
   ],
   "source": [
    "def sum(a,b):\n",
    "    return a+b\n",
    "\n",
    "print(sum(3,2))"
   ]
  },
  {
   "cell_type": "markdown",
   "metadata": {},
   "source": [
    "**Q.6. What is the operation of this special character ‘\\’?**\n",
    "\n",
    "The \"\\\\\" keyword is used for escape character in the string."
   ]
  },
  {
   "cell_type": "code",
   "execution_count": 3,
   "metadata": {},
   "outputs": [
    {
     "name": "stdout",
     "output_type": "stream",
     "text": [
      "Hii \"Peter\"\n",
      "Hii 'Peter'\n"
     ]
    }
   ],
   "source": [
    "str1 = \"Hii \\\"Peter\\\"\"\n",
    "print(str1)\n",
    "\n",
    "str2 = 'Hii \\'Peter\\''\n",
    "print(str2)"
   ]
  },
  {
   "cell_type": "markdown",
   "metadata": {},
   "source": [
    "**Q.7. Give an example of the following conditions:\n",
    "\n",
    "(i) Homogeneous list\n",
    "\n",
    "(ii) Heterogeneous set\n",
    "\n",
    "(iii) Homogeneous tuple**"
   ]
  },
  {
   "cell_type": "code",
   "execution_count": 2,
   "metadata": {},
   "outputs": [],
   "source": [
    "# Homogeneous list --> It only contains same types of data.\n",
    "l = [1,2,3,4,5]\n",
    "\n",
    "# Heterogeneous set --> It contain's different types of data type\n",
    "s = {1,\"Hello\",'hii',True,3.2}\n",
    "\n",
    "# Homogeneous tuple\n",
    "t = (1,2,3,4,5)"
   ]
  },
  {
   "cell_type": "markdown",
   "metadata": {},
   "source": [
    "**Q.8. Explain the mutable and immutable data types with proper explanation & examples.**\n",
    "\n",
    "Immutable are kind of data types in which we cannot make changes in them.The example of immutable data types are given below.\n"
   ]
  },
  {
   "cell_type": "code",
   "execution_count": 8,
   "metadata": {},
   "outputs": [
    {
     "ename": "TypeError",
     "evalue": "'str' object does not support item assignment",
     "output_type": "error",
     "traceback": [
      "\u001b[1;31m---------------------------------------------------------------------------\u001b[0m",
      "\u001b[1;31mTypeError\u001b[0m                                 Traceback (most recent call last)",
      "Cell \u001b[1;32mIn[8], line 4\u001b[0m\n\u001b[0;32m      1\u001b[0m \u001b[39m# It's not possible to change the value of character at certain index in string.\u001b[39;00m\n\u001b[0;32m      2\u001b[0m \u001b[39m# It will throw an error\u001b[39;00m\n\u001b[0;32m      3\u001b[0m \u001b[39mstr\u001b[39m \u001b[39m=\u001b[39m \u001b[39m\"\u001b[39m\u001b[39mHello\u001b[39m\u001b[39m\"\u001b[39m\n\u001b[1;32m----> 4\u001b[0m \u001b[39mstr\u001b[39m[\u001b[39m3\u001b[39m] \u001b[39m=\u001b[39m \u001b[39m'\u001b[39m\u001b[39me\u001b[39m\u001b[39m'\u001b[39m\n",
      "\u001b[1;31mTypeError\u001b[0m: 'str' object does not support item assignment"
     ]
    }
   ],
   "source": [
    "# It's not possible to change the value of character at certain index in string.\n",
    "# It will throw an error\n",
    "str = \"Hello\"\n",
    "str[3] = 'e'\n"
   ]
  },
  {
   "cell_type": "code",
   "execution_count": 9,
   "metadata": {},
   "outputs": [
    {
     "ename": "TypeError",
     "evalue": "'tuple' object does not support item assignment",
     "output_type": "error",
     "traceback": [
      "\u001b[1;31m---------------------------------------------------------------------------\u001b[0m",
      "\u001b[1;31mTypeError\u001b[0m                                 Traceback (most recent call last)",
      "Cell \u001b[1;32mIn[9], line 5\u001b[0m\n\u001b[0;32m      1\u001b[0m \u001b[39m# It's not possible to change value at certain index in tuple\u001b[39;00m\n\u001b[0;32m      2\u001b[0m \u001b[39m# It will throw error\u001b[39;00m\n\u001b[0;32m      4\u001b[0m t \u001b[39m=\u001b[39m (\u001b[39m1\u001b[39m,\u001b[39m2\u001b[39m,\u001b[39m3\u001b[39m,\u001b[39m4\u001b[39m)\n\u001b[1;32m----> 5\u001b[0m t[\u001b[39m3\u001b[39m]  \u001b[39m=\u001b[39m \u001b[39m93\u001b[39m\n",
      "\u001b[1;31mTypeError\u001b[0m: 'tuple' object does not support item assignment"
     ]
    }
   ],
   "source": [
    "# It's not possible to change value at certain index in tuple\n",
    "# It will throw error\n",
    "\n",
    "t = (1,2,3,4)\n",
    "t[3]  = 93"
   ]
  },
  {
   "cell_type": "markdown",
   "metadata": {},
   "source": [
    "Mutable are kind of data types in which we can make changes in them.\n"
   ]
  },
  {
   "cell_type": "code",
   "execution_count": 10,
   "metadata": {},
   "outputs": [
    {
     "name": "stdout",
     "output_type": "stream",
     "text": [
      "[1, 2, 3, 100]\n"
     ]
    }
   ],
   "source": [
    "# we can change value of list\n",
    "l = [1,2,3,4]\n",
    "l[3] = 100\n",
    "\n",
    "print(l)"
   ]
  },
  {
   "cell_type": "code",
   "execution_count": 3,
   "metadata": {},
   "outputs": [
    {
     "name": "stdout",
     "output_type": "stream",
     "text": [
      "{'name': 'Bruce', 'surname': 'Parker'}\n"
     ]
    }
   ],
   "source": [
    "#we can change value of certain key in dictionary\n",
    "d = {\"name\":\"Peter\",\"surname\":\"Parker\"}\n",
    "\n",
    "d['name'] = \"Bruce\"\n",
    "print(d)"
   ]
  },
  {
   "cell_type": "markdown",
   "metadata": {},
   "source": [
    "**Q.9. Write a code to create the given structure using only for loop.**"
   ]
  },
  {
   "cell_type": "code",
   "execution_count": 12,
   "metadata": {},
   "outputs": [],
   "source": [
    "def pattern1(n):\n",
    "    for i in range(n):\n",
    "        space_before = n - i-1\n",
    "        star = (2 * i) + 1\n",
    "        for j in range(space_before):\n",
    "            print(\"\",end=\" \")\n",
    "        for j in range(star):\n",
    "            print(\"*\",end=\"\")\n",
    "        print()\n",
    "\n"
   ]
  },
  {
   "cell_type": "code",
   "execution_count": 13,
   "metadata": {},
   "outputs": [
    {
     "name": "stdout",
     "output_type": "stream",
     "text": [
      "    *\n",
      "   ***\n",
      "  *****\n",
      " *******\n",
      "*********\n"
     ]
    }
   ],
   "source": [
    "pattern1(5)"
   ]
  },
  {
   "cell_type": "code",
   "execution_count": 14,
   "metadata": {},
   "outputs": [
    {
     "name": "stdout",
     "output_type": "stream",
     "text": [
      "        *\n",
      "       ***\n",
      "      *****\n",
      "     *******\n",
      "    *********\n",
      "   ***********\n",
      "  *************\n",
      " ***************\n",
      "*****************\n"
     ]
    }
   ],
   "source": [
    "pattern1(9)"
   ]
  },
  {
   "cell_type": "code",
   "execution_count": 15,
   "metadata": {},
   "outputs": [
    {
     "name": "stdout",
     "output_type": "stream",
     "text": [
      "   *\n",
      "  ***\n",
      " *****\n",
      "*******\n"
     ]
    }
   ],
   "source": [
    "pattern1(4)"
   ]
  },
  {
   "cell_type": "markdown",
   "metadata": {},
   "source": [
    "**Q.10. Write a code to create the given structure using while loop.**"
   ]
  },
  {
   "cell_type": "code",
   "execution_count": 18,
   "metadata": {},
   "outputs": [],
   "source": [
    "def pattern2(n):\n",
    "    for i in range(n-1,-1,-1):\n",
    "        space_before = n - i-1\n",
    "        star = (2 * i) + 1\n",
    "        for j in range(space_before):\n",
    "            print(\"\",end=\" \")\n",
    "        for j in range(star):\n",
    "            print(\"|\",end=\"\")\n",
    "        print()"
   ]
  },
  {
   "cell_type": "code",
   "execution_count": 19,
   "metadata": {},
   "outputs": [
    {
     "name": "stdout",
     "output_type": "stream",
     "text": [
      "|||||||||\n",
      " |||||||\n",
      "  |||||\n",
      "   |||\n",
      "    |\n"
     ]
    }
   ],
   "source": [
    "pattern2(5)"
   ]
  },
  {
   "cell_type": "code",
   "execution_count": 20,
   "metadata": {},
   "outputs": [
    {
     "name": "stdout",
     "output_type": "stream",
     "text": [
      "|||||||||||||||||\n",
      " |||||||||||||||\n",
      "  |||||||||||||\n",
      "   |||||||||||\n",
      "    |||||||||\n",
      "     |||||||\n",
      "      |||||\n",
      "       |||\n",
      "        |\n"
     ]
    }
   ],
   "source": [
    "pattern2(9)"
   ]
  },
  {
   "cell_type": "code",
   "execution_count": 21,
   "metadata": {},
   "outputs": [
    {
     "name": "stdout",
     "output_type": "stream",
     "text": [
      "|||||||\n",
      " |||||\n",
      "  |||\n",
      "   |\n"
     ]
    }
   ],
   "source": [
    "pattern2(4)"
   ]
  },
  {
   "cell_type": "code",
   "execution_count": null,
   "metadata": {},
   "outputs": [],
   "source": []
  }
 ],
 "metadata": {
  "kernelspec": {
   "display_name": "base",
   "language": "python",
   "name": "python3"
  },
  "language_info": {
   "codemirror_mode": {
    "name": "ipython",
    "version": 3
   },
   "file_extension": ".py",
   "mimetype": "text/x-python",
   "name": "python",
   "nbconvert_exporter": "python",
   "pygments_lexer": "ipython3",
   "version": "3.10.11"
  },
  "orig_nbformat": 4
 },
 "nbformat": 4,
 "nbformat_minor": 2
}
