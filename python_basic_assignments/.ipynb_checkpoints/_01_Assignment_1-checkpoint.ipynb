{
 "cells": [
  {
   "cell_type": "markdown",
   "metadata": {},
   "source": [
    "**1. In the below elements which of them are values or an expression? eg:- values can be integer or string and expressions will be mathematical operators.**\n",
    "\n",
    "(*) --> operator </br>\n",
    "('hello') --> expression\\ \n",
    "(-87.8) --> expression\\\n",
    "(-) --> operator\\\n",
    "(/) --> operator\\\n",
    "(+) --> operator\\\n",
    "6 --> expression\\\n"
   ]
  },
  {
   "cell_type": "markdown",
   "metadata": {},
   "source": [
    "**2. What is the difference between string and variable?**\n",
    "\n",
    "A variable is used to store value of data types. Data is stored in memory. Declaring a variable is not possible in python.Whenever you assign value to variable,at that time variable is created. String is one of data types available in python. A string is used to store text. String value is stored in variable."
   ]
  },
  {
   "cell_type": "code",
   "execution_count": 2,
   "metadata": {},
   "outputs": [],
   "source": [
    "# In below example we have created variable called \"full_name\" which is storing string data type.\n",
    "full_name  = \"Peter Parker\""
   ]
  },
  {
   "cell_type": "markdown",
   "metadata": {},
   "source": [
    "**3. Describe three different data types.**\n",
    "\n",
    "\n",
    "\n"
   ]
  },
  {
   "cell_type": "markdown",
   "metadata": {},
   "source": [
    "##### 1. Numeric Types\n",
    "\n",
    "Numeric Types are used to store the numeric value.There are three types of Numeric data types which are follow"
   ]
  },
  {
   "cell_type": "code",
   "execution_count": 3,
   "metadata": {},
   "outputs": [
    {
     "data": {
      "text/plain": [
       "int"
      ]
     },
     "execution_count": 3,
     "metadata": {},
     "output_type": "execute_result"
    }
   ],
   "source": [
    "# 1) Int Type: In the below example we store the \"Integer\" value in \"age\" variable \n",
    "age = 34\n",
    "type(age)"
   ]
  },
  {
   "cell_type": "code",
   "execution_count": 4,
   "metadata": {},
   "outputs": [
    {
     "data": {
      "text/plain": [
       "float"
      ]
     },
     "execution_count": 4,
     "metadata": {},
     "output_type": "execute_result"
    }
   ],
   "source": [
    "# 2) Float Type: In the below example we store \"Float\" value in \"height\" variable\n",
    "height = 170.5\n",
    "type(height)"
   ]
  },
  {
   "cell_type": "code",
   "execution_count": 5,
   "metadata": {},
   "outputs": [
    {
     "data": {
      "text/plain": [
       "complex"
      ]
     },
     "execution_count": 5,
     "metadata": {},
     "output_type": "execute_result"
    }
   ],
   "source": [
    "# 3) Complex Type:In the below example we store \"Complex\" number value in \"a\" variable.\n",
    "# \"3\" is real part and \"2\" is imaginary part of complex number\n",
    "a = 3 + 2j\n",
    "type(a)"
   ]
  },
  {
   "cell_type": "markdown",
   "metadata": {},
   "source": [
    "##### 2. Text Type\n",
    "\n",
    "Python have only one text type, which is \"string\". It's used to store text value.The text value is surrounded\n",
    "by single quotation or double quotation"
   ]
  },
  {
   "cell_type": "code",
   "execution_count": 6,
   "metadata": {},
   "outputs": [],
   "source": [
    "# Single quotation string\n",
    "name = 'Bruce'"
   ]
  },
  {
   "cell_type": "code",
   "execution_count": 7,
   "metadata": {},
   "outputs": [],
   "source": [
    "# Double quotation string\n",
    "name = \"Bruce\""
   ]
  },
  {
   "cell_type": "markdown",
   "metadata": {},
   "source": [
    "We can also have multiline string. In multiline string we enclose text in three single quotes or three double quotes"
   ]
  },
  {
   "cell_type": "code",
   "execution_count": 8,
   "metadata": {},
   "outputs": [],
   "source": [
    "# Three single quotes multiline string\n",
    "intro = '''  \n",
    "    Hello, My name Peter Parker and\n",
    "    I am spider man\n",
    "'''"
   ]
  },
  {
   "cell_type": "code",
   "execution_count": 9,
   "metadata": {},
   "outputs": [],
   "source": [
    "# Three double quotes multiline string\n",
    "intro = \"\"\"  \n",
    "    Hello, My name Peter Parker and\n",
    "    I am spider man\n",
    "\"\"\""
   ]
  },
  {
   "cell_type": "markdown",
   "metadata": {},
   "source": [
    "##### 3. Boolean Type\n",
    "\n",
    "Boolean Type contains two value.The two value are \"True\" and \"False\"."
   ]
  },
  {
   "cell_type": "code",
   "execution_count": 10,
   "metadata": {},
   "outputs": [],
   "source": [
    "# True value\n",
    "isGood = True"
   ]
  },
  {
   "cell_type": "code",
   "execution_count": 11,
   "metadata": {},
   "outputs": [],
   "source": [
    "# False value\n",
    "isBad=False"
   ]
  },
  {
   "cell_type": "markdown",
   "metadata": {},
   "source": [
    "Any value is evaluated to True if it contains some value.Empty values are falsy value.{},(),[],0,\"\",None are falsy value."
   ]
  },
  {
   "cell_type": "markdown",
   "metadata": {},
   "source": [
    "**4. What is an expression made up of? What do all expressions do?**\n",
    "\n",
    "A valid combination of variable,literal,identifier,operators,operands etc which produce a value are called Expressions. In other words it's piece of code which produce value.\n",
    "\n",
    "The types of expression are follow-:\n",
    "\n",
    "1. Logical expressions.\n",
    "2. Relational expressions.\n",
    "3. String expressions.\n",
    "4. Arithmetic expressions."
   ]
  },
  {
   "cell_type": "markdown",
   "metadata": {},
   "source": [
    "1. Relational Expression -: In these kinds of expressions,the resulting value is either \"True\" or \"False\".Few example of Relational expression are given below."
   ]
  },
  {
   "cell_type": "code",
   "execution_count": 20,
   "metadata": {},
   "outputs": [
    {
     "name": "stdout",
     "output_type": "stream",
     "text": [
      "True\n",
      "False\n",
      "True\n",
      "False\n",
      "True\n"
     ]
    }
   ],
   "source": [
    "a = 10\n",
    "b = 5\n",
    "\n",
    "print(a > b)\n",
    "print(a < b)\n",
    "print(a >= 10)\n",
    "print(a < 5)\n",
    "print(b != 10)"
   ]
  },
  {
   "cell_type": "markdown",
   "metadata": {},
   "source": [
    "2. **Logical Expression** -: In these kind of expressions logical operators are present.The three logical operators are \"and\",\"or\" and \"not\".The example of Logical Expression are given below"
   ]
  },
  {
   "cell_type": "code",
   "execution_count": 13,
   "metadata": {},
   "outputs": [
    {
     "name": "stdout",
     "output_type": "stream",
     "text": [
      "False\n",
      "True\n",
      "False\n"
     ]
    }
   ],
   "source": [
    "a = 10\n",
    "b = 5\n",
    "c = 8\n",
    "\n",
    "print(a > b and c>8)\n",
    "print(a < b or a > c)\n",
    "print(not b != 10)"
   ]
  },
  {
   "cell_type": "markdown",
   "metadata": {},
   "source": [
    "3. **String Expression** -: In these kind of operation string are present.Few example of string expressions are given below"
   ]
  },
  {
   "cell_type": "code",
   "execution_count": 14,
   "metadata": {},
   "outputs": [
    {
     "name": "stdout",
     "output_type": "stream",
     "text": [
      "PeterParker\n",
      "PeterPeterPeter\n"
     ]
    }
   ],
   "source": [
    "first_name = \"Peter\"\n",
    "last_name = \"Parker\"\n",
    "\n",
    "# string concatenation\n",
    "print(first_name + last_name)\n",
    "print(first_name * 3)"
   ]
  },
  {
   "cell_type": "markdown",
   "metadata": {},
   "source": [
    "4. **Arithmetic Expressions** -: It's combination of operators and numeric values. Numeric value is operands"
   ]
  },
  {
   "cell_type": "code",
   "execution_count": 15,
   "metadata": {},
   "outputs": [
    {
     "name": "stdout",
     "output_type": "stream",
     "text": [
      "15\n",
      "5\n",
      "50\n",
      "2.0\n"
     ]
    }
   ],
   "source": [
    "a = 10\n",
    "b = 5\n",
    "\n",
    "sum = a + b\n",
    "print(sum)\n",
    "\n",
    "sub = a - b\n",
    "print(sub)\n",
    "\n",
    "prod = a * b\n",
    "print(prod)\n",
    "\n",
    "div = a/b\n",
    "print(div)\n",
    "\n"
   ]
  },
  {
   "cell_type": "markdown",
   "metadata": {},
   "source": [
    "**5.This assignment statements, like spam = 10. What is the difference between an expression and a statement?**"
   ]
  },
  {
   "cell_type": "markdown",
   "metadata": {},
   "source": [
    "An expression is combination of literal,operator,operands etc.An expression is piece of code which produce value.A statement is combination of expression.An statement doesn't produce value."
   ]
  },
  {
   "cell_type": "code",
   "execution_count": 21,
   "metadata": {},
   "outputs": [],
   "source": [
    "# It's statement which assign integer value \"10\" to spam variable\n",
    "spam = 10 "
   ]
  },
  {
   "cell_type": "markdown",
   "metadata": {},
   "source": [
    "**6. After running the following code, what does the variable bacon contain?**\n",
    "\n",
    "bacon = 22<br/>\n",
    "bacon + 1"
   ]
  },
  {
   "cell_type": "code",
   "execution_count": 16,
   "metadata": {},
   "outputs": [
    {
     "name": "stdout",
     "output_type": "stream",
     "text": [
      "22\n"
     ]
    }
   ],
   "source": [
    "bacon = 22\n",
    "bacon+1\n",
    "print(bacon)"
   ]
  },
  {
   "cell_type": "markdown",
   "metadata": {},
   "source": [
    "After running above code, the value of bacon will be 22 because we are not assigning new value of (bacon+1) to bacon variable.In the below code it's shown how to increment the value of bacon."
   ]
  },
  {
   "cell_type": "code",
   "execution_count": 17,
   "metadata": {},
   "outputs": [
    {
     "name": "stdout",
     "output_type": "stream",
     "text": [
      "23\n"
     ]
    }
   ],
   "source": [
    "bacon = 22\n",
    "bacon = bacon + 1\n",
    "print(bacon)"
   ]
  },
  {
   "cell_type": "markdown",
   "metadata": {},
   "source": [
    "**7. What should the values of the following two terms be?**\n",
    "\n",
    "'spam' + 'spamspam' </br>\n",
    "\n",
    "'span' * 3"
   ]
  },
  {
   "cell_type": "code",
   "execution_count": 18,
   "metadata": {},
   "outputs": [
    {
     "name": "stdout",
     "output_type": "stream",
     "text": [
      "spamspamspam\n"
     ]
    }
   ],
   "source": [
    "# The below expression is string concatenation . It's will join the first string ans second string\n",
    "a = 'spam' + 'spamspam'\n",
    "print(a)"
   ]
  },
  {
   "cell_type": "code",
   "execution_count": 19,
   "metadata": {},
   "outputs": [
    {
     "name": "stdout",
     "output_type": "stream",
     "text": [
      "spamspamspam\n"
     ]
    }
   ],
   "source": [
    "#The below expression will extend the string three times\n",
    "b = 'spam' * 3\n",
    "print(b)"
   ]
  },
  {
   "cell_type": "markdown",
   "metadata": {},
   "source": [
    "**8. Why is eggs a valid variable name while 100 is invalid?**"
   ]
  },
  {
   "cell_type": "markdown",
   "metadata": {},
   "source": [
    "Ans. There are rules which we need to follow while naming the variable names in python. A variable can only contains alpha numeric character and underscore( _ ). The name cannot start with number because python interpreter will get confused whether name is variable name or numeric datatype.The \"eggs\" is legal variable name as it satisfy the condition.The \"100\" will be treated as numeric value instead of variable name. So we can't create variable of name \"100\"."
   ]
  },
  {
   "cell_type": "markdown",
   "metadata": {},
   "source": [
    "**9. What three functions can be used to get the integer, floating-point number, or string\n",
    "version of a value?**\n",
    "\n",
    "The int(),float() and str() will get integer , floating point number and string version of value respectively."
   ]
  },
  {
   "cell_type": "code",
   "execution_count": 25,
   "metadata": {},
   "outputs": [
    {
     "name": "stdout",
     "output_type": "stream",
     "text": [
      "10\n",
      "10.0\n",
      "10\n"
     ]
    }
   ],
   "source": [
    "string_integer = \"10\"\n",
    "integer = 10\n",
    "\n",
    "print(int(string_integer))\n",
    "print(float(string_integer))\n",
    "\n",
    "print(str(integer))"
   ]
  },
  {
   "cell_type": "markdown",
   "metadata": {},
   "source": [
    "**10. Why does this expression cause an error? How can you fix it? </br>\n",
    "'I have eaten' + 99 + 'burritos.'**\n",
    "\n",
    "The expression cause error because you can't concatenate string and integers. The are different data type."
   ]
  },
  {
   "cell_type": "code",
   "execution_count": 27,
   "metadata": {},
   "outputs": [
    {
     "name": "stdout",
     "output_type": "stream",
     "text": [
      "I have eaten 99 burritos.\n"
     ]
    }
   ],
   "source": [
    "# In order to concatenate,first you have to convert integer value to string value\n",
    "a = 'I have eaten ' + str(99) + ' burritos.'\n",
    "print(a)"
   ]
  },
  {
   "cell_type": "code",
   "execution_count": null,
   "metadata": {},
   "outputs": [],
   "source": []
  }
 ],
 "metadata": {
  "kernelspec": {
   "display_name": "Python 3 (ipykernel)",
   "language": "python",
   "name": "python3"
  },
  "language_info": {
   "codemirror_mode": {
    "name": "ipython",
    "version": 3
   },
   "file_extension": ".py",
   "mimetype": "text/x-python",
   "name": "python",
   "nbconvert_exporter": "python",
   "pygments_lexer": "ipython3",
   "version": "3.10.9"
  }
 },
 "nbformat": 4,
 "nbformat_minor": 2
}
