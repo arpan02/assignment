{
 "cells": [
  {
   "attachments": {},
   "cell_type": "markdown",
   "metadata": {},
   "source": [
    "**1. What exactly is []?**\n",
    "\n",
    "[] is list data type in python. As name suggest it's is used to store list of value.An example of list type is given below\n",
    "\n"
   ]
  },
  {
   "cell_type": "code",
   "execution_count": 2,
   "metadata": {},
   "outputs": [],
   "source": [
    "l = [1,2,3,\"Peter\",4,5,\"parker\"]"
   ]
  },
  {
   "attachments": {},
   "cell_type": "markdown",
   "metadata": {},
   "source": [
    "**2. In a list of values stored in a variable called spam, how would you assign the value 'hello' as the third value? (Assume [2, 4, 6, 8, 10] are in spam.)?**"
   ]
  },
  {
   "cell_type": "code",
   "execution_count": 3,
   "metadata": {},
   "outputs": [
    {
     "name": "stdout",
     "output_type": "stream",
     "text": [
      "[2, 4, 'hello', 8, 10]\n"
     ]
    }
   ],
   "source": [
    "spam = [2, 4, 6, 8, 10]\n",
    "spam[2] = 'hello'\n",
    "print(spam)"
   ]
  },
  {
   "attachments": {},
   "cell_type": "markdown",
   "metadata": {},
   "source": [
    "**Let's pretend the spam includes the list ['a','b','c','d'] for the next three queries.**"
   ]
  },
  {
   "attachments": {},
   "cell_type": "markdown",
   "metadata": {},
   "source": [
    "**3. What is the value of spam[int(int(&#39;3&#39; * 2) / 11)]?**"
   ]
  },
  {
   "cell_type": "code",
   "execution_count": 4,
   "metadata": {},
   "outputs": [
    {
     "name": "stdout",
     "output_type": "stream",
     "text": [
      "d\n"
     ]
    }
   ],
   "source": [
    "\n",
    "spam = ['a','b','c','d']\n",
    "# '3' * 2 is '33'\n",
    "# int('33') will return 33 which is integer\n",
    "# 33/11 is 3\n",
    "# int(3) will return 3\n",
    "# spam[3] will give 'd'\n",
    "print(spam[int(int('3' * 2) / 11)])\n"
   ]
  },
  {
   "attachments": {},
   "cell_type": "markdown",
   "metadata": {},
   "source": [
    "**4. What is the value of spam[-1]?**"
   ]
  },
  {
   "cell_type": "code",
   "execution_count": 5,
   "metadata": {},
   "outputs": [
    {
     "name": "stdout",
     "output_type": "stream",
     "text": [
      "d\n"
     ]
    }
   ],
   "source": [
    "spam = ['a','b','c','d']\n",
    "# the index value is -1 so it will look for last value in spam list because negative index start form -1\n",
    "print(spam[-1])"
   ]
  },
  {
   "attachments": {},
   "cell_type": "markdown",
   "metadata": {},
   "source": [
    "**5. What is the value of spam[:2]?**"
   ]
  },
  {
   "cell_type": "code",
   "execution_count": 6,
   "metadata": {},
   "outputs": [
    {
     "name": "stdout",
     "output_type": "stream",
     "text": [
      "['a', 'b']\n"
     ]
    }
   ],
   "source": [
    "spam = ['a','b','c','d']\n",
    "# The initial index by default is zero. So spam[:2] is same as spam[0:2]\n",
    "# Last index is not inclusive.So index number 2 won't be part of output\n",
    "print(spam[:2])"
   ]
  },
  {
   "attachments": {},
   "cell_type": "markdown",
   "metadata": {},
   "source": [
    "**Let&#39;s pretend bacon has the list [3.14, &#39;cat,&#39; 11, &#39;cat,&#39; True] for the next three questions.**"
   ]
  },
  {
   "cell_type": "code",
   "execution_count": 7,
   "metadata": {},
   "outputs": [],
   "source": [
    "bacon =  [3.14, 'cat', 11, 'cat', True]"
   ]
  },
  {
   "attachments": {},
   "cell_type": "markdown",
   "metadata": {},
   "source": [
    "**6. What is the value of bacon.index(&#39;cat&#39;)?**"
   ]
  },
  {
   "cell_type": "code",
   "execution_count": 8,
   "metadata": {},
   "outputs": [
    {
     "name": "stdout",
     "output_type": "stream",
     "text": [
      "1\n"
     ]
    }
   ],
   "source": [
    "# The .index() method return first occurrence index of 'cat'\n",
    "print(bacon.index('cat'))"
   ]
  },
  {
   "attachments": {},
   "cell_type": "markdown",
   "metadata": {},
   "source": [
    "**7. How does bacon.append(99) change the look of the list value in bacon?**\n"
   ]
  },
  {
   "cell_type": "code",
   "execution_count": 9,
   "metadata": {},
   "outputs": [
    {
     "name": "stdout",
     "output_type": "stream",
     "text": [
      "[3.14, 'cat', 11, 'cat', True, 99]\n"
     ]
    }
   ],
   "source": [
    "# The bacon.append() will add the value at the end of list \n",
    "bacon.append(99)\n",
    "print(bacon)"
   ]
  },
  {
   "attachments": {},
   "cell_type": "markdown",
   "metadata": {},
   "source": [
    "**8. How does bacon.remove(&#39;cat&#39;) change the look of the list in bacon?**"
   ]
  },
  {
   "cell_type": "code",
   "execution_count": 10,
   "metadata": {},
   "outputs": [
    {
     "name": "stdout",
     "output_type": "stream",
     "text": [
      "[3.14, 11, 'cat', True, 99]\n"
     ]
    }
   ],
   "source": [
    "# It will remove the first occurrence of value 'cat'\n",
    "bacon.remove('cat')\n",
    "print(bacon)"
   ]
  },
  {
   "attachments": {},
   "cell_type": "markdown",
   "metadata": {},
   "source": [
    "**9. What are the list concatenation and list replication operators?**\n",
    "\n"
   ]
  },
  {
   "cell_type": "code",
   "execution_count": 11,
   "metadata": {},
   "outputs": [
    {
     "name": "stdout",
     "output_type": "stream",
     "text": [
      "[1, 2, 3, 4, 5, 6]\n"
     ]
    }
   ],
   "source": [
    "l1 = [1,2,3]\n",
    "l2 = [4,5,6]\n",
    "\n",
    "# Here \"+\" is list concatenation operator.It joined two list and create new list\n",
    "l = l1 + l2\n",
    "print(l)"
   ]
  },
  {
   "cell_type": "code",
   "execution_count": 12,
   "metadata": {},
   "outputs": [
    {
     "name": "stdout",
     "output_type": "stream",
     "text": [
      "[1, 2, 3, 1, 2, 3, 1, 2, 3]\n"
     ]
    }
   ],
   "source": [
    "l1 = [1,2,3]\n",
    "\n",
    "# Here \"*\" is replication operator\n",
    "l = l1*3\n",
    "print(l)"
   ]
  },
  {
   "attachments": {},
   "cell_type": "markdown",
   "metadata": {},
   "source": [
    "**10. What is difference between the list methods append() and insert()?**"
   ]
  },
  {
   "cell_type": "code",
   "execution_count": 13,
   "metadata": {},
   "outputs": [
    {
     "name": "stdout",
     "output_type": "stream",
     "text": [
      "[1, 2, 3, 4]\n"
     ]
    }
   ],
   "source": [
    "l1 = [1,2,3]\n",
    "# Here append method will add element 4 at the end of list\n",
    "l1.append(4)\n",
    "print(l1)"
   ]
  },
  {
   "cell_type": "code",
   "execution_count": 14,
   "metadata": {},
   "outputs": [
    {
     "name": "stdout",
     "output_type": "stream",
     "text": [
      "[4, 100, 5, 6]\n"
     ]
    }
   ],
   "source": [
    "l2 = [4,5,6]\n",
    "\n",
    "# Here \"insert\" method will add 100 value at 1 index\n",
    "l2.insert(1,100)\n",
    "print(l2)"
   ]
  },
  {
   "attachments": {},
   "cell_type": "markdown",
   "metadata": {},
   "source": [
    "**11. What are the two methods for removing items from a list?**"
   ]
  },
  {
   "cell_type": "code",
   "execution_count": 15,
   "metadata": {},
   "outputs": [
    {
     "name": "stdout",
     "output_type": "stream",
     "text": [
      "['a', 'b', 'c']\n"
     ]
    }
   ],
   "source": [
    "l = ['a','b','c','d']\n",
    "\n",
    "# pop method will remove last element of list\n",
    "l.pop()\n",
    "print(l)"
   ]
  },
  {
   "cell_type": "code",
   "execution_count": 16,
   "metadata": {},
   "outputs": [
    {
     "name": "stdout",
     "output_type": "stream",
     "text": [
      "['a', 'c', 'd', 'b', 'b']\n"
     ]
    }
   ],
   "source": [
    "l = ['a','b','c','d','b','b']\n",
    "\n",
    "# Here remove method will remove first occurrence of string 'b'\n",
    "l.remove('b')\n",
    "print(l)"
   ]
  },
  {
   "attachments": {},
   "cell_type": "markdown",
   "metadata": {},
   "source": [
    "**12. Describe how list values and string values are identical.**\n",
    "\n"
   ]
  },
  {
   "cell_type": "code",
   "execution_count": 5,
   "metadata": {},
   "outputs": [
    {
     "name": "stdout",
     "output_type": "stream",
     "text": [
      "5\n",
      "5\n",
      "1\n",
      "a\n",
      "1 2 3 4 5 \n",
      "a b c d e "
     ]
    }
   ],
   "source": [
    "l = [1,2,3,4,5]\n",
    "\n",
    "st = \"abcde\"\n",
    "\n",
    "# both string and list have length\n",
    "print(len(l))\n",
    "print(len(st))\n",
    "\n",
    "# each character in string and each item in list have position\n",
    "print(l[0])\n",
    "print(st[0])\n",
    "\n",
    "# Both can be iterated\n",
    "\n",
    "for i in l:\n",
    "    print(i,end=\" \")\n",
    "\n",
    "print()\n",
    "\n",
    "for i in st:\n",
    "    print(i,end=\" \")"
   ]
  },
  {
   "attachments": {},
   "cell_type": "markdown",
   "metadata": {},
   "source": [
    "**13. What&#39;s the difference between tuples and lists?**\n",
    "\n",
    "We can change value in list while it's not possible in tuple.A list have many methods for doing different kind of operation while it's not possible in tuple.A tuple have only two method, which are \"count\" and \"index\"."
   ]
  },
  {
   "cell_type": "code",
   "execution_count": 17,
   "metadata": {},
   "outputs": [
    {
     "name": "stdout",
     "output_type": "stream",
     "text": [
      "[8, 2, 3, 4, 5]\n",
      "3\n",
      "3\n"
     ]
    }
   ],
   "source": [
    "# list\n",
    "l = [1,2,3,4]\n",
    "\n",
    "# tuple\n",
    "t = (1,2,3,4,5,4,2,2,4)\n",
    "\n",
    "# operation on list\n",
    "l.append(5)\n",
    "l[0] = 8\n",
    "print(l)\n",
    "\n",
    "# Above kind of operation are not possible in tuple\n",
    "# The two method which tuple have are follow\n",
    "\n",
    "# count return number of times value present in tuple\n",
    "print(t.count(2))\n",
    "\n",
    "# index return index of first occurrence of value in tuple\n",
    "print(t.index(4))"
   ]
  },
  {
   "attachments": {},
   "cell_type": "markdown",
   "metadata": {},
   "source": [
    "**14. How do you type a tuple value that only contains the integer 42?**\n"
   ]
  },
  {
   "cell_type": "code",
   "execution_count": 21,
   "metadata": {},
   "outputs": [],
   "source": [
    "# tuple t only contains value 42. The comma is important,otherwise python will interpret as integer\n",
    "t = (42,)"
   ]
  },
  {
   "attachments": {},
   "cell_type": "markdown",
   "metadata": {},
   "source": [
    "**15. How do you get a list value&#39;s tuple form? How do you get a tuple value&#39;s list form?**"
   ]
  },
  {
   "cell_type": "code",
   "execution_count": 23,
   "metadata": {},
   "outputs": [
    {
     "name": "stdout",
     "output_type": "stream",
     "text": [
      "(1, 2, 3)\n",
      "['a', 'b', 'c']\n"
     ]
    }
   ],
   "source": [
    "l = [1,2,3]\n",
    "t = ('a','b','c')\n",
    "\n",
    "# converting list to tuple\n",
    "lt = tuple(l)\n",
    "\n",
    "# converting tuple to list\n",
    "tl = list(t)\n",
    "\n",
    "print(lt)\n",
    "print(tl)"
   ]
  },
  {
   "attachments": {},
   "cell_type": "markdown",
   "metadata": {},
   "source": [
    "**16. Variables that \"contain\" list values are not necessarily lists themselves. Instead, what do they contain?**\n",
    "\n",
    "variable holds address of list. They points to memory location where list is saved.That's why we can access list value at certain index at O(1) time complexity"
   ]
  },
  {
   "attachments": {},
   "cell_type": "markdown",
   "metadata": {},
   "source": [
    "**17. How do you distinguish between copy.copy() and copy.deepcopy()?**"
   ]
  },
  {
   "cell_type": "code",
   "execution_count": 19,
   "metadata": {},
   "outputs": [
    {
     "name": "stdout",
     "output_type": "stream",
     "text": [
      "['a', 'b', 'c', ['z', 'e', 'f'], 'g']\n",
      "['a', 'b', 'c', ['z', 'e', 'f'], 'g']\n"
     ]
    }
   ],
   "source": [
    "import copy\n",
    "l = ['a','b','c',['d','e','f'],'g']\n",
    "\n",
    "list_copy = copy.copy(l)\n",
    "\n",
    "list_copy[3][0] = 'z'\n",
    "\n",
    "print(list_copy)\n",
    "print(l)"
   ]
  },
  {
   "attachments": {},
   "cell_type": "markdown",
   "metadata": {},
   "source": [
    "As you can see in above example that \"copy\" function is creating shallow copy.In both list, nested list is pointing to same memory location. Changing value in one list reflecting value change in other list."
   ]
  },
  {
   "cell_type": "code",
   "execution_count": 20,
   "metadata": {},
   "outputs": [
    {
     "name": "stdout",
     "output_type": "stream",
     "text": [
      "['a', 'b', 'c', ['z', 'e', 'f'], 'g']\n",
      "['a', 'b', 'c', ['d', 'e', 'f'], 'g']\n"
     ]
    }
   ],
   "source": [
    "import copy\n",
    "l = ['a','b','c',['d','e','f'],'g']\n",
    "\n",
    "list_copy = copy.deepcopy(l)\n",
    "\n",
    "list_copy[3][0] = 'z'\n",
    "\n",
    "print(list_copy)\n",
    "print(l)"
   ]
  },
  {
   "attachments": {},
   "cell_type": "markdown",
   "metadata": {},
   "source": [
    "In above code, change in one nested list is not reflecting in other list.So here we are doing deep cody.Nested list are not pointing to same memory location."
   ]
  },
  {
   "cell_type": "code",
   "execution_count": null,
   "metadata": {},
   "outputs": [],
   "source": []
  }
 ],
 "metadata": {
  "kernelspec": {
   "display_name": "base",
   "language": "python",
   "name": "python3"
  },
  "language_info": {
   "codemirror_mode": {
    "name": "ipython",
    "version": 3
   },
   "file_extension": ".py",
   "mimetype": "text/x-python",
   "name": "python",
   "nbconvert_exporter": "python",
   "pygments_lexer": "ipython3",
   "version": "3.10.9"
  },
  "orig_nbformat": 4
 },
 "nbformat": 4,
 "nbformat_minor": 2
}
