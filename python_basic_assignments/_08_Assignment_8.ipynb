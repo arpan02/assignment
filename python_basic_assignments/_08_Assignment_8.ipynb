{
 "cells": [
  {
   "cell_type": "markdown",
   "metadata": {},
   "source": [
    "**1. In Python, what is the difference between a built-in function and a user-defined function? Provide an example of each.**\n",
    "\n",
    "Built in function are pre defined function which comes in python. We don't have to create them. They are available in many python modules.\n",
    "\n"
   ]
  },
  {
   "cell_type": "code",
   "execution_count": 2,
   "metadata": {},
   "outputs": [
    {
     "name": "stdout",
     "output_type": "stream",
     "text": [
      "720\n"
     ]
    }
   ],
   "source": [
    "import math\n",
    "\n",
    "# Factorial is function which is available in math module.Here we don't have to create function.\n",
    "print(math.factorial(6))"
   ]
  },
  {
   "cell_type": "markdown",
   "metadata": {},
   "source": [
    "User define are function which we built by ourself."
   ]
  },
  {
   "cell_type": "code",
   "execution_count": 4,
   "metadata": {},
   "outputs": [
    {
     "name": "stdout",
     "output_type": "stream",
     "text": [
      "30\n"
     ]
    }
   ],
   "source": [
    "# Here we have define function called sum,which do addition of two number.\n",
    "def sum(a,b):\n",
    "    return a + b\n",
    "\n",
    "print(sum(10,20))"
   ]
  },
  {
   "cell_type": "markdown",
   "metadata": {},
   "source": [
    "**2. How can you pass arguments to a function in Python? Explain the difference between positional arguments and keyword arguments.**\n",
    "\n",
    "When we call function , we can pass argument to the function. In the below example we are passing argument to sum function when we are calling it.\n",
    "\n"
   ]
  },
  {
   "cell_type": "code",
   "execution_count": 1,
   "metadata": {},
   "outputs": [
    {
     "data": {
      "text/plain": [
       "5"
      ]
     },
     "execution_count": 1,
     "metadata": {},
     "output_type": "execute_result"
    }
   ],
   "source": [
    "def sum(a,b):\n",
    "    return a + b\n",
    "\n",
    "sum(3,2)"
   ]
  },
  {
   "cell_type": "markdown",
   "metadata": {},
   "source": [
    "When passing of arguments depends position of parameters in function definition is called positional arguments. Below is example of positional argument.In the below example if we pass last name as first argument,it will show wrong  output. So order matters here."
   ]
  },
  {
   "cell_type": "code",
   "execution_count": 2,
   "metadata": {},
   "outputs": [
    {
     "name": "stdout",
     "output_type": "stream",
     "text": [
      "Hello Peter Parker\n"
     ]
    }
   ],
   "source": [
    "def greet(first_name,last_name):\n",
    "    print(f\"Hello {first_name} {last_name}\")\n",
    "    \n",
    "greet('Peter','Parker')"
   ]
  },
  {
   "cell_type": "markdown",
   "metadata": {},
   "source": [
    "When we provide variable name of argument along with value of argument,it's called keyword argument.Below is example of keyword argument.Here the orders doesn't matter."
   ]
  },
  {
   "cell_type": "code",
   "execution_count": 3,
   "metadata": {},
   "outputs": [
    {
     "name": "stdout",
     "output_type": "stream",
     "text": [
      "Hello Parker Peter\n"
     ]
    }
   ],
   "source": [
    "def greet(first_name,last_name):\n",
    "    print(f\"Hello {first_name} {last_name}\")\n",
    "    \n",
    "greet(last_name='Peter',first_name='Parker')"
   ]
  },
  {
   "cell_type": "markdown",
   "metadata": {},
   "source": [
    "We can combine positional and keyword argument. Below is given example of it.All positional argument should come first."
   ]
  },
  {
   "cell_type": "code",
   "execution_count": 4,
   "metadata": {},
   "outputs": [
    {
     "name": "stdout",
     "output_type": "stream",
     "text": [
      "Hello Peter Parker\n"
     ]
    }
   ],
   "source": [
    "def greet(first_name,last_name):\n",
    "    print(f\"Hello {first_name} {last_name}\")\n",
    "    \n",
    "greet('Peter',last_name='Parker')"
   ]
  },
  {
   "cell_type": "markdown",
   "metadata": {},
   "source": [
    "**3.What is the purpose of the return statement in a function? Can a function have multiple return statements? Explain with an example.**\n",
    "\n",
    "The return statement in a function is used to return value from a function.The return statement stop execution of function,thus also used to exit from the function.\n",
    "\n",
    "Yes function can have multiple return statement but only one return statement going to run because function exit the execution after encountering return statement.\n",
    "\n",
    "We can also use return statement without returning any value in order to exit from function. \n"
   ]
  },
  {
   "cell_type": "code",
   "execution_count": 5,
   "metadata": {},
   "outputs": [
    {
     "name": "stdout",
     "output_type": "stream",
     "text": [
      "1\n",
      "2\n",
      "3\n"
     ]
    }
   ],
   "source": [
    "# here function is not returning any value, so return statement is used to exit from function\n",
    "# Here function return after encountering value 3 in array and it will also break for loop.\n",
    "def fun(l):\n",
    "    for i in l:\n",
    "        print(i)\n",
    "        if(i==3):\n",
    "            return \n",
    "        \n",
    "l  = [1,2,3,4,5]\n",
    "\n",
    "fun(l)\n",
    "\n"
   ]
  },
  {
   "cell_type": "code",
   "execution_count": 6,
   "metadata": {},
   "outputs": [
    {
     "name": "stdout",
     "output_type": "stream",
     "text": [
      "3\n"
     ]
    }
   ],
   "source": [
    "# Here add function return sum of two number\n",
    "\n",
    "def add(a,b):\n",
    "    return a + b\n",
    "\n",
    "print(add(1,2))"
   ]
  },
  {
   "cell_type": "code",
   "execution_count": 7,
   "metadata": {},
   "outputs": [
    {
     "name": "stdout",
     "output_type": "stream",
     "text": [
      "(15, 5, 50, 2.0)\n"
     ]
    }
   ],
   "source": [
    "# We can also return multiple values in function\n",
    "\n",
    "def operation(a,b):\n",
    "    add = a + b\n",
    "    sub = a - b\n",
    "    mul = a * b\n",
    "    div = a / b\n",
    "    \n",
    "    return  add,sub,mul,div\n",
    "\n",
    "print(operation(10,5))"
   ]
  },
  {
   "cell_type": "markdown",
   "metadata": {},
   "source": [
    "**4. What are lambda functions in Python? How are they different from regular functions? Provide an example where a lambda function can be useful.**"
   ]
  },
  {
   "cell_type": "markdown",
   "metadata": {},
   "source": [
    "Lambda function are anonymous function which are small functions.They can be define in single line.They are useful when we have to use function at only one place.They are useful when we pass them as callback function."
   ]
  },
  {
   "cell_type": "code",
   "execution_count": 9,
   "metadata": {},
   "outputs": [
    {
     "name": "stdout",
     "output_type": "stream",
     "text": [
      "5\n"
     ]
    }
   ],
   "source": [
    "sum = lambda a,b: a + b\n",
    "print(sum(2,3))"
   ]
  },
  {
   "cell_type": "code",
   "execution_count": 13,
   "metadata": {},
   "outputs": [
    {
     "name": "stdout",
     "output_type": "stream",
     "text": [
      "[1, 4, 9, 16, 25]\n"
     ]
    }
   ],
   "source": [
    "\n",
    "# Here we used lambda function in map function.We passed lambda function as callback function\n",
    "l = [1,2,3,4,5]\n",
    "square = list(map(lambda x : x**2,l))\n",
    "print(square)"
   ]
  },
  {
   "cell_type": "markdown",
   "metadata": {},
   "source": [
    "**5. How does the concept of \"scope\" apply to functions in Python? Explain the difference between local\n",
    "scope and global scope.**\n",
    "\n",
    "There are one global and local scope in python.The example are follow"
   ]
  },
  {
   "cell_type": "code",
   "execution_count": 14,
   "metadata": {},
   "outputs": [
    {
     "name": "stdout",
     "output_type": "stream",
     "text": [
      "10\n"
     ]
    }
   ],
   "source": [
    "# a is global variable which are available at any part of program\n",
    "a = 10\n",
    "\n",
    "def fun():\n",
    "    print(a)\n",
    "    pass\n",
    "\n",
    "fun()"
   ]
  },
  {
   "cell_type": "code",
   "execution_count": 15,
   "metadata": {},
   "outputs": [
    {
     "name": "stdout",
     "output_type": "stream",
     "text": [
      "5\n"
     ]
    }
   ],
   "source": [
    "# a is local variable which is available only in fun function\n",
    "def fun():\n",
    "    a = 5\n",
    "    print(a)\n",
    "    \n",
    "fun() "
   ]
  },
  {
   "cell_type": "markdown",
   "metadata": {},
   "source": [
    "**6. How can you use the \"return\" statement in a Python function to return multiple values?**\n"
   ]
  },
  {
   "cell_type": "code",
   "execution_count": 16,
   "metadata": {},
   "outputs": [
    {
     "name": "stdout",
     "output_type": "stream",
     "text": [
      "(15, 5, 50, 2.0)\n"
     ]
    }
   ],
   "source": [
    "# We can return multiple values in function.Below is example of returning multiple value from function\n",
    "def operation(a,b):\n",
    "    add = a + b\n",
    "    sub = a - b\n",
    "    mul = a * b\n",
    "    div = a / b\n",
    "    \n",
    "    return  add,sub,mul,div\n",
    "\n",
    "print(operation(10,5))"
   ]
  },
  {
   "cell_type": "markdown",
   "metadata": {},
   "source": [
    "**7. What is the difference between the \"pass by value\" and \"pass by reference\" concepts when it comes to function arguments in Python?**"
   ]
  },
  {
   "cell_type": "code",
   "execution_count": 17,
   "metadata": {},
   "outputs": [
    {
     "name": "stdout",
     "output_type": "stream",
     "text": [
      "35\n",
      "8 7\n"
     ]
    }
   ],
   "source": [
    "# Example of pass by value\n",
    "def sum(a,b):\n",
    "    a = 10\n",
    "    b = 25\n",
    "    return a + b\n",
    "\n",
    "x = 8\n",
    "y = 7\n",
    "\n",
    "print(sum(x,y))\n",
    "print(x,y)\n",
    "\n",
    "# In above example changing value of a and b is not changing the value x and y.\n",
    "\n",
    "\n",
    "  "
   ]
  },
  {
   "cell_type": "code",
   "execution_count": 20,
   "metadata": {},
   "outputs": [
    {
     "name": "stdout",
     "output_type": "stream",
     "text": [
      "114\n",
      "[100, 2, 3, 4, 5]\n"
     ]
    }
   ],
   "source": [
    "# Example of pass by reference\n",
    "def sum(l):\n",
    "    l[0] = 100\n",
    "    ans = 0\n",
    "    for i in l:\n",
    "        ans = ans + i\n",
    "        \n",
    "    return ans\n",
    "\n",
    "l = [1,2,3,4,5]\n",
    "ans = sum(l)\n",
    "print(ans)\n",
    "print(l)\n",
    "\n",
    "# In above example mutating the value of list in function showing changes in list we passed to function.\n"
   ]
  },
  {
   "cell_type": "markdown",
   "metadata": {},
   "source": [
    "8. Create a function that can intake integer or decimal value and do following operations:\n",
    "\n",
    "a. Logarithmic function (log x)\n",
    "\n",
    "b. Exponential function (exp(x))\n",
    "\n",
    "c. Power function with base 2 (2<sup>x</sup>)\n",
    "\n",
    "d. Square root"
   ]
  },
  {
   "cell_type": "code",
   "execution_count": 6,
   "metadata": {},
   "outputs": [
    {
     "name": "stdout",
     "output_type": "stream",
     "text": [
      "0.6931471805599453\n",
      "7.38905609893065\n",
      "4.0\n",
      "1.4142135623730951\n"
     ]
    }
   ],
   "source": [
    "import math\n",
    "def operations(x):\n",
    "    print(math.log(x))\n",
    "    print(math.exp(x))\n",
    "    print(math.pow(2,x))\n",
    "    print(math.sqrt(x)) \n",
    "    \n",
    "\n",
    "operations(2)\n"
   ]
  },
  {
   "cell_type": "markdown",
   "metadata": {},
   "source": [
    "**9. Create a function that takes a full name as an argument and returns first name and last name.**\n",
    "\n"
   ]
  },
  {
   "cell_type": "code",
   "execution_count": 22,
   "metadata": {},
   "outputs": [
    {
     "name": "stdout",
     "output_type": "stream",
     "text": [
      "('Peter', 'Parker')\n"
     ]
    }
   ],
   "source": [
    "def firstname_and_lastname(fullname):\n",
    "    firstname = fullname.split(\" \")[0]\n",
    "    lastname = fullname.split(\" \")[1]\n",
    "    \n",
    "    return firstname,lastname\n",
    "\n",
    "print(firstname_and_lastname(\"Peter Parker\"))\n"
   ]
  },
  {
   "cell_type": "code",
   "execution_count": null,
   "metadata": {},
   "outputs": [],
   "source": []
  }
 ],
 "metadata": {
  "kernelspec": {
   "display_name": "base",
   "language": "python",
   "name": "python3"
  },
  "language_info": {
   "codemirror_mode": {
    "name": "ipython",
    "version": 3
   },
   "file_extension": ".py",
   "mimetype": "text/x-python",
   "name": "python",
   "nbconvert_exporter": "python",
   "pygments_lexer": "ipython3",
   "version": "3.10.9"
  },
  "orig_nbformat": 4
 },
 "nbformat": 4,
 "nbformat_minor": 2
}
