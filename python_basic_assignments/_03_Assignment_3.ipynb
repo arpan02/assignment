{
 "cells": [
  {
   "attachments": {},
   "cell_type": "markdown",
   "metadata": {},
   "source": [
    "**1. Why are functions advantageous to have in your programs?**\n",
    "\n",
    "Whenever we want same code to execute again and again, we use functions.It makes piece of code reusable and avoid redundancy. It's breaks bigger code into small chunks.Code become easy to understand"
   ]
  },
  {
   "cell_type": "code",
   "execution_count": 2,
   "metadata": {},
   "outputs": [
    {
     "name": "stdout",
     "output_type": "stream",
     "text": [
      "Even\n",
      "Odd\n",
      "Odd\n"
     ]
    }
   ],
   "source": [
    "# Code without use of function\n",
    "\n",
    "n = 10\n",
    "\n",
    "if(n%2==0):\n",
    "    print('Even')\n",
    "else:\n",
    "    print('Odd')\n",
    "    \n",
    "n = 5\n",
    "\n",
    "if(n%2==0):\n",
    "    print('Even')\n",
    "else:    \n",
    "    print('Odd')\n",
    "    \n",
    "n = 7\n",
    "\n",
    "if(n%2==0):\n",
    "    print('Even')\n",
    "else:    \n",
    "    print('Odd')\n",
    "        "
   ]
  },
  {
   "attachments": {},
   "cell_type": "markdown",
   "metadata": {},
   "source": [
    "In above code we repeating same code again and again. The better implementation of above code is given below."
   ]
  },
  {
   "cell_type": "code",
   "execution_count": 3,
   "metadata": {},
   "outputs": [
    {
     "name": "stdout",
     "output_type": "stream",
     "text": [
      "Even\n",
      "Odd\n",
      "Odd\n"
     ]
    }
   ],
   "source": [
    "def even_or_odd(n):\n",
    "    if(n%2==0):\n",
    "        print('Even')\n",
    "    else:\n",
    "        print('Odd')\n",
    "        \n",
    "even_or_odd(10)\n",
    "even_or_odd(5)\n",
    "even_or_odd(7)"
   ]
  },
  {
   "attachments": {},
   "cell_type": "markdown",
   "metadata": {},
   "source": [
    "**2. When does the code in a function run: when it's specified or when it's called?**\n",
    "\n",
    "The code in function runs when we call the function. We define a function first than call it whenever we need it.Function definition and Function call example is given below\n",
    "\n",
    "\n"
   ]
  },
  {
   "cell_type": "code",
   "execution_count": 5,
   "metadata": {},
   "outputs": [
    {
     "name": "stdout",
     "output_type": "stream",
     "text": [
      "5\n"
     ]
    }
   ],
   "source": [
    "# function definition \n",
    "def add(a,b):\n",
    "    return a + b\n",
    "\n",
    "# function call\n",
    "sum = add(3,2)\n",
    "print(sum)"
   ]
  },
  {
   "attachments": {},
   "cell_type": "markdown",
   "metadata": {},
   "source": [
    "**3. What statement creates a function?**\n",
    "\n",
    "\"def\" statement creates a function. A function have parameters,function body and return value."
   ]
  },
  {
   "cell_type": "code",
   "execution_count": null,
   "metadata": {},
   "outputs": [],
   "source": [
    "def function_name(function_parameter):\n",
    "    a = 10 + 20 # function body\n",
    "    return a   #return value"
   ]
  },
  {
   "attachments": {},
   "cell_type": "markdown",
   "metadata": {},
   "source": [
    "**4. What is the difference between a function and a function call?**\n",
    "\n",
    "A function is definition of Function.It's code which tell what function going to do.\n",
    "\n",
    "A function call happens when invoke function"
   ]
  },
  {
   "cell_type": "code",
   "execution_count": null,
   "metadata": {},
   "outputs": [],
   "source": []
  }
 ],
 "metadata": {
  "kernelspec": {
   "display_name": "base",
   "language": "python",
   "name": "python3"
  },
  "language_info": {
   "codemirror_mode": {
    "name": "ipython",
    "version": 3
   },
   "file_extension": ".py",
   "mimetype": "text/x-python",
   "name": "python",
   "nbconvert_exporter": "python",
   "pygments_lexer": "ipython3",
   "version": "3.10.9"
  },
  "orig_nbformat": 4
 },
 "nbformat": 4,
 "nbformat_minor": 2
}
