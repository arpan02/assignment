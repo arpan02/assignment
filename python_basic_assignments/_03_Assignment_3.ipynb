{
 "cells": [
  {
   "attachments": {},
   "cell_type": "markdown",
   "metadata": {},
   "source": [
    "**1. Why are functions advantageous to have in your programs?**\n",
    "\n",
    "Whenever we want same code to execute again and again, we use functions.It makes piece of code reusable and avoid redundancy. It's breaks bigger code into small chunks.Code become easy to understand"
   ]
  },
  {
   "cell_type": "code",
   "execution_count": 2,
   "metadata": {},
   "outputs": [
    {
     "name": "stdout",
     "output_type": "stream",
     "text": [
      "Even\n",
      "Odd\n",
      "Odd\n"
     ]
    }
   ],
   "source": [
    "# Code without use of function\n",
    "\n",
    "n = 10\n",
    "\n",
    "if(n%2==0):\n",
    "    print('Even')\n",
    "else:\n",
    "    print('Odd')\n",
    "    \n",
    "n = 5\n",
    "\n",
    "if(n%2==0):\n",
    "    print('Even')\n",
    "else:    \n",
    "    print('Odd')\n",
    "    \n",
    "n = 7\n",
    "\n",
    "if(n%2==0):\n",
    "    print('Even')\n",
    "else:    \n",
    "    print('Odd')\n",
    "        "
   ]
  },
  {
   "attachments": {},
   "cell_type": "markdown",
   "metadata": {},
   "source": [
    "In above code we repeating same code again and again. The better implementation of above code is given below."
   ]
  },
  {
   "cell_type": "code",
   "execution_count": 3,
   "metadata": {},
   "outputs": [
    {
     "name": "stdout",
     "output_type": "stream",
     "text": [
      "Even\n",
      "Odd\n",
      "Odd\n"
     ]
    }
   ],
   "source": [
    "def even_or_odd(n):\n",
    "    if(n%2==0):\n",
    "        print('Even')\n",
    "    else:\n",
    "        print('Odd')\n",
    "        \n",
    "even_or_odd(10)\n",
    "even_or_odd(5)\n",
    "even_or_odd(7)"
   ]
  },
  {
   "attachments": {},
   "cell_type": "markdown",
   "metadata": {},
   "source": [
    "**2. When does the code in a function run: when it's specified or when it's called?**\n",
    "\n",
    "The code in function runs when we call the function. We define a function first than call it whenever we need it.Function definition and Function call example is given below\n",
    "\n",
    "\n"
   ]
  },
  {
   "cell_type": "code",
   "execution_count": 5,
   "metadata": {},
   "outputs": [
    {
     "name": "stdout",
     "output_type": "stream",
     "text": [
      "5\n"
     ]
    }
   ],
   "source": [
    "# function definition \n",
    "def add(a,b):\n",
    "    return a + b\n",
    "\n",
    "# function call\n",
    "sum = add(3,2)\n",
    "print(sum)"
   ]
  },
  {
   "attachments": {},
   "cell_type": "markdown",
   "metadata": {},
   "source": [
    "**3. What statement creates a function?**\n",
    "\n",
    "\"def\" statement creates a function. A function have parameters,function body and return value."
   ]
  },
  {
   "cell_type": "code",
   "execution_count": null,
   "metadata": {},
   "outputs": [],
   "source": [
    "def function_name(function_parameter):\n",
    "    a = 10 + 20 # function body\n",
    "    return a   #return value"
   ]
  },
  {
   "attachments": {},
   "cell_type": "markdown",
   "metadata": {},
   "source": [
    "**4. What is the difference between a function and a function call?**\n",
    "\n",
    "A function is definition of Function.It's code which tell what function going to do.\n",
    "\n",
    "A function call happens when we invoke function"
   ]
  },
  {
   "cell_type": "markdown",
   "metadata": {},
   "source": [
    "**5. How many global scopes are there in a Python program? How many local scopes?**\n",
    "\n",
    "There are one global and local scope in python.The example are given below"
   ]
  },
  {
   "cell_type": "code",
   "execution_count": 4,
   "metadata": {},
   "outputs": [
    {
     "name": "stdout",
     "output_type": "stream",
     "text": [
      "10\n"
     ]
    }
   ],
   "source": [
    "# a is global variable which are available at any part of program\n",
    "a = 10\n",
    "\n",
    "def fun():\n",
    "    print(a)\n",
    "    pass\n",
    "\n",
    "fun()\n",
    "    "
   ]
  },
  {
   "cell_type": "code",
   "execution_count": 5,
   "metadata": {},
   "outputs": [
    {
     "name": "stdout",
     "output_type": "stream",
     "text": [
      "5\n"
     ]
    }
   ],
   "source": [
    "# a is local variable which is available only in fun function\n",
    "def fun():\n",
    "    a = 5\n",
    "    print(a)\n",
    "    \n",
    "fun()    \n",
    "    "
   ]
  },
  {
   "cell_type": "markdown",
   "metadata": {},
   "source": [
    "**6. What happens to variables in a local scope when the function call returns?**\n",
    "\n",
    "The variable in local scope are destroyed when function call return. The storage which local scope variable use are freed from memory."
   ]
  },
  {
   "cell_type": "markdown",
   "metadata": {},
   "source": [
    "**7. What is the concept of a return value? Is it possible to have a return value in an expression?**\n",
    "\n",
    "A return value is value which function returns when someone invoke function.Yeah it's possible to have return value in an expression."
   ]
  },
  {
   "cell_type": "code",
   "execution_count": 7,
   "metadata": {},
   "outputs": [
    {
     "name": "stdout",
     "output_type": "stream",
     "text": [
      "21\n"
     ]
    }
   ],
   "source": [
    "# An example of using function return value in expression\n",
    "def sum(a,b):\n",
    "    return a + b\n",
    "\n",
    "ans = 4 + sum(8,9)\n",
    "print(ans)"
   ]
  },
  {
   "cell_type": "markdown",
   "metadata": {},
   "source": [
    "**8. If a function does not have a return statement, what is the return value of a call to that function?**\n",
    "\n",
    "If function have no return value,the return value of function is \"None\""
   ]
  },
  {
   "cell_type": "code",
   "execution_count": 8,
   "metadata": {},
   "outputs": [
    {
     "name": "stdout",
     "output_type": "stream",
     "text": [
      "None\n"
     ]
    }
   ],
   "source": [
    "def a():\n",
    "    a = 2 + 2\n",
    "\n",
    "\n",
    "print(a())"
   ]
  },
  {
   "cell_type": "markdown",
   "metadata": {},
   "source": [
    "**9. How do you make a function variable refer to the global variable?**\n",
    "\n",
    "we can make function variable refer to global using \"global\" keyword. An example is given below."
   ]
  },
  {
   "cell_type": "code",
   "execution_count": 9,
   "metadata": {},
   "outputs": [
    {
     "name": "stdout",
     "output_type": "stream",
     "text": [
      "20\n"
     ]
    }
   ],
   "source": [
    "a = 10\n",
    "\n",
    "def sum():\n",
    "    global a\n",
    "    a = a + 10\n",
    "\n",
    "sum()\n",
    "print(a)\n",
    "\n"
   ]
  },
  {
   "cell_type": "markdown",
   "metadata": {},
   "source": [
    "**10. What is the data type of None?**\n",
    "\n",
    "The data type of None is \"NoneType\""
   ]
  },
  {
   "cell_type": "code",
   "execution_count": 10,
   "metadata": {},
   "outputs": [
    {
     "name": "stdout",
     "output_type": "stream",
     "text": [
      "<class 'NoneType'>\n"
     ]
    }
   ],
   "source": [
    "print(type(None))"
   ]
  },
  {
   "cell_type": "markdown",
   "metadata": {},
   "source": [
    "**11. What does the sentence import areallyourpetsnamederic do?**\n",
    "\n",
    "It's import module named \"areallyourpetsnamederic\""
   ]
  },
  {
   "cell_type": "markdown",
   "metadata": {},
   "source": [
    "**12. If you had a bacon() feature in a spam module, what would you call it after importing spam?**\n",
    "\n",
    "we can call function by spam.bacon()"
   ]
  },
  {
   "cell_type": "markdown",
   "metadata": {},
   "source": [
    "**13. What can you do to save a programme from crashing if it encounters an error?**\n",
    "\n",
    "we can use try and except block to handle an error.\n",
    "\n"
   ]
  },
  {
   "cell_type": "code",
   "execution_count": 2,
   "metadata": {},
   "outputs": [
    {
     "name": "stdout",
     "output_type": "stream",
     "text": [
      "Error: You can't divide by zero\n"
     ]
    }
   ],
   "source": [
    "try:\n",
    "    a = 10/0\n",
    "except ZeroDivisionError as e:\n",
    "    print(\"Error: You can't divide by zero\")\n",
    "except Exception as e:\n",
    "    print(\"Something went wrong!\")"
   ]
  },
  {
   "cell_type": "markdown",
   "metadata": {},
   "source": [
    "**14. What is the purpose of the try clause? What is the purpose of the except clause?**\n",
    "\n",
    "we put code which can produce error in try clause.We handle error in except clause. The example is given below."
   ]
  },
  {
   "cell_type": "code",
   "execution_count": 4,
   "metadata": {},
   "outputs": [
    {
     "name": "stdout",
     "output_type": "stream",
     "text": [
      "File not found ! Check your file\n"
     ]
    }
   ],
   "source": [
    "try:\n",
    "    f = open('text.txt','r')\n",
    "except FileNotFoundError as e:\n",
    "    print(\"File not found ! Check your file\")\n",
    "except Exception as e :\n",
    "    print(\"Something went wrong!\")"
   ]
  },
  {
   "cell_type": "code",
   "execution_count": null,
   "metadata": {},
   "outputs": [],
   "source": []
  }
 ],
 "metadata": {
  "kernelspec": {
   "display_name": "base",
   "language": "python",
   "name": "python3"
  },
  "language_info": {
   "codemirror_mode": {
    "name": "ipython",
    "version": 3
   },
   "file_extension": ".py",
   "mimetype": "text/x-python",
   "name": "python",
   "nbconvert_exporter": "python",
   "pygments_lexer": "ipython3",
   "version": "3.10.9"
  },
  "orig_nbformat": 4
 },
 "nbformat": 4,
 "nbformat_minor": 2
}
